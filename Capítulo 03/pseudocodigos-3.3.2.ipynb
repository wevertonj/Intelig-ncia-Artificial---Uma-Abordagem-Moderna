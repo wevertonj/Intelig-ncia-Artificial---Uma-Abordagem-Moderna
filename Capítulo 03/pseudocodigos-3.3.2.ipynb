{
 "cells": [
  {
   "attachments": {},
   "cell_type": "markdown",
   "metadata": {},
   "source": [
    "# 03. Pseudocódigos"
   ]
  },
  {
   "attachments": {},
   "cell_type": "markdown",
   "metadata": {},
   "source": [
    "## 3.3.2 Figura 3.7\n",
    "\n",
    "Algoritmo de busca pela melhor escolha e função para expandir um nó. As estruturas de dados usadas aqui são descritas na seção 3.3.2 do livro.\n",
    "\n",
    "```pseudo\n",
    "function BEST-FIRST-SEARCH(problem, f) returns a solution node or failure\n",
    "    node ← NODE(STATE = problem.INITIAL)\n",
    "    frontier ← a priority queue ordered by f, with node as an element\n",
    "    reached ← a lookup table, with one entry with key problem.INITIAL and value node\n",
    "\n",
    "    while not IS-EMPTY(frontier) do\n",
    "        node ← POP(frontier)\n",
    "        if problem.IS-GOAL(node.STATE) then return node\n",
    "\n",
    "        for each child in EXPAND(problem, node) do\n",
    "            s ← child.STATE\n",
    "            if s is not in reached or child.PATH-COST < reached[s].PATH-COST then\n",
    "                reached[s] ← child\n",
    "                add child to frontier\n",
    "\n",
    "    return failure\n",
    "\n",
    "function EXPAND(problem, node) yields nodes\n",
    "    s ← node.STATE\n",
    "    for each action in problem.ACTIONS(s) do\n",
    "        s' ← problem.RESULT(s, action)\n",
    "        cost ← node.PATH-COST + problem.ACTION-COST(s, action, s')\n",
    "        yield NODE(STATE = s', PARENT = node, ACTION = action, PATH-COST = cost)\n",
    "```"
   ]
  },
  {
   "attachments": {},
   "cell_type": "markdown",
   "metadata": {},
   "source": [
    "### Definições\n",
    "\n",
    "| Símbolo | Descrição |\n",
    "| :---: | :--- |\n",
    "| STATE (Estado): | Em qual nó em que o algoritmo de busca está. |\n",
    "| PARENT (Pai) | Nó pai do nó atual. |\n",
    "| ACTION (Ação) | Ação que levou ao nó atual. |\n",
    "| PATH-COST (Custo do caminho) | Custo do caminho do nó inicial até o nó atual. |"
   ]
  },
  {
   "attachments": {},
   "cell_type": "markdown",
   "metadata": {},
   "source": [
    "Mapa rodoviário simplificado de parte da Romênia "
   ]
  },
  {
   "cell_type": "code",
   "execution_count": 1,
   "metadata": {},
   "outputs": [],
   "source": [
    "romania_map = {\n",
    "    'Arad': {'Zerind': 75, 'Sibiu': 140, 'Timisoara': 118},\n",
    "    'Zerind': {'Oradea': 71, 'Arad': 75},\n",
    "    'Oradea': {'Zerind': 71, 'Sibiu': 151},\n",
    "    'Sibiu': {'Arad': 140, 'Oradea': 151, 'Fagaras': 99, 'Rimnicu Vilcea': 80},\n",
    "    'Timisoara': {'Arad': 118, 'Lugoj': 111},\n",
    "    'Lugoj': {'Timisoara': 111, 'Mehadia': 70},\n",
    "    'Mehadia': {'Lugoj': 70, 'Drobeta': 75},\n",
    "    'Drobeta': {'Mehadia': 75, 'Craiova': 120},\n",
    "    'Craiova': {'Drobeta': 120, 'Rimnicu Vilcea': 146, 'Pitesti': 138},\n",
    "    'Rimnicu Vilcea': {'Sibiu': 80, 'Craiova': 146, 'Pitesti': 97},\n",
    "    'Fagaras': {'Sibiu': 99, 'Bucharest': 211},\n",
    "    'Pitesti': {'Craiova': 138, 'Rimnicu Vilcea': 97, 'Bucharest': 101},\n",
    "    'Bucharest': {'Fagaras': 211, 'Pitesti': 101},\n",
    "    'Giurgiu': {'Bucharest': 90},\n",
    "    'Urziceni': {'Bucharest': 85, 'Hirsova': 98, 'Vaslui': 142},\n",
    "    'Hirsova': {'Urziceni': 98, 'Eforie': 86},\n",
    "    'Eforie': {'Hirsova': 86},\n",
    "    'Vaslui': {'Urziceni': 142, 'Iasi': 92},\n",
    "    'Iasi': {'Vaslui': 92, 'Neamt': 87},\n",
    "    'Neamt': {'Iasi': 87}\n",
    "}\n"
   ]
  },
  {
   "attachments": {},
   "cell_type": "markdown",
   "metadata": {},
   "source": [
    "`__lt__` e `__gt__` são requisitos da biblioteca heapq."
   ]
  },
  {
   "cell_type": "code",
   "execution_count": 2,
   "metadata": {},
   "outputs": [],
   "source": [
    "class Node:\n",
    "    def __init__(self, state, parent=None, action=None, path_cost=0):\n",
    "        self.state = state\n",
    "        self.parent = parent\n",
    "        self.action = action\n",
    "        self.path_cost = path_cost\n",
    "\n",
    "    def __lt__(self, other):\n",
    "        return self.path_cost < other.path_cost\n",
    "\n",
    "    def __gt__(self, other):\n",
    "        return self.path_cost > other.path_cost\n"
   ]
  },
  {
   "attachments": {},
   "cell_type": "markdown",
   "metadata": {},
   "source": [
    "Esta classe fez jus ao nome. Me deu muito Problem."
   ]
  },
  {
   "cell_type": "code",
   "execution_count": 3,
   "metadata": {},
   "outputs": [],
   "source": [
    "class Problem:\n",
    "    def __init__(self, initial, goal):\n",
    "        self.initial = Node(initial)\n",
    "        self.goal = Node(goal)\n",
    "\n",
    "    def goal_test(self, state):\n",
    "        return state == self.goal.state\n",
    "    \n",
    "    def actions(self, state):\n",
    "        return romania_map[state].keys()\n",
    "    \n",
    "    def result(self, parent_state, new_state):\n",
    "        if new_state != parent_state:\n",
    "            return True\n",
    "        return False\n",
    "        \n",
    "    "
   ]
  },
  {
   "attachments": {},
   "cell_type": "markdown",
   "metadata": {},
   "source": [
    "Já esta, conseguiu expandir os problemas."
   ]
  },
  {
   "cell_type": "code",
   "execution_count": 4,
   "metadata": {},
   "outputs": [],
   "source": [
    "def expand(node, problem):\n",
    "    current_state = node.state\n",
    "    children = []\n",
    "    actions = problem.actions(current_state)\n",
    "\n",
    "    for action in actions:\n",
    "        new_state = action\n",
    "        path_cost = romania_map[current_state][new_state] + node.path_cost\n",
    "        child = Node(new_state, node, action, path_cost)\n",
    "        children.append(child)\n",
    "\n",
    "    return children\n",
    "\n"
   ]
  },
  {
   "attachments": {},
   "cell_type": "markdown",
   "metadata": {},
   "source": [
    "Esta função não faz parte do pseudocódigo, adicionei apenas para ter um feedback visual do que está acontecendo. Ela imprime o custo total do caminho e o caminho em si. Neste exercício, estou usando a distância em milhas como custo."
   ]
  },
  {
   "cell_type": "code",
   "execution_count": 5,
   "metadata": {},
   "outputs": [],
   "source": [
    "def print_solution(node):\n",
    "    path = []\n",
    "    path_cost = 0\n",
    "    while node.parent:\n",
    "        path.append(node.state)\n",
    "        path_cost += node.path_cost\n",
    "        node = node.parent\n",
    "    path.append(node.state)\n",
    "    path.reverse()\n",
    "    print(f\"[{path_cost}] {' -> '.join(path)}\")"
   ]
  },
  {
   "cell_type": "code",
   "execution_count": 6,
   "metadata": {},
   "outputs": [],
   "source": [
    "def heuristic(node, goal):\n",
    "    current_state = node.state\n",
    "    goal_state = goal.state\n",
    "    distances = romania_map\n",
    "\n",
    "    if current_state in distances.keys():\n",
    "        if goal_state in distances[current_state].keys():\n",
    "            distance = distances[current_state][goal_state]\n",
    "        else:\n",
    "            distance = float('inf')\n",
    "    else:\n",
    "        distance = float('inf')\n",
    "\n",
    "    return distance\n"
   ]
  },
  {
   "cell_type": "code",
   "execution_count": 7,
   "metadata": {},
   "outputs": [],
   "source": [
    "import heapq\n",
    "\n",
    "def best_first_graph_search(problem, heuristic):\n",
    "    node = problem.initial\n",
    "    if problem.goal_test(node.state):\n",
    "        return node\n",
    "\n",
    "    frontier = []\n",
    "\n",
    "    heapq.heappush(frontier, (heuristic(node, problem.goal), node))\n",
    "    explored = set()\n",
    "\n",
    "    while frontier:\n",
    "        node = heapq.heappop(frontier)[1]\n",
    "        if problem.goal_test(node.state):\n",
    "            return node\n",
    "\n",
    "        explored.add(node.state)\n",
    "\n",
    "        for child in expand(node, problem):\n",
    "            if child.state not in explored:\n",
    "                heapq.heappush(frontier, (heuristic(child, problem.goal), child))\n",
    "\n",
    "    raise ValueError('No solution found')\n",
    "\n"
   ]
  },
  {
   "cell_type": "code",
   "execution_count": 8,
   "metadata": {},
   "outputs": [
    {
     "name": "stdout",
     "output_type": "stream",
     "text": [
      "[1095] Arad -> Sibiu -> Rimnicu Vilcea -> Pitesti -> Bucharest\n"
     ]
    }
   ],
   "source": [
    "problem = Problem('Arad', 'Bucharest')\n",
    "search = best_first_graph_search(problem, heuristic)\n",
    "print_solution(search)"
   ]
  },
  {
   "attachments": {},
   "cell_type": "markdown",
   "metadata": {},
   "source": [
    "O algoritmo tem um erro que impede de avançar para o próximo nó, quando chega em `Bucharest`. Não consegui resolver sem gerar um loop infinito. Considerando que o próximo tópico do livro é sobre \"Caminhos redundantes\", estou considerando que talvez seja um erro proposital. Portanto, ficará assim, até por que já gastei muito tempo neste exercício."
   ]
  },
  {
   "cell_type": "code",
   "execution_count": null,
   "metadata": {},
   "outputs": [],
   "source": []
  }
 ],
 "metadata": {
  "kernelspec": {
   "display_name": "Python 3",
   "language": "python",
   "name": "python3"
  },
  "language_info": {
   "codemirror_mode": {
    "name": "ipython",
    "version": 3
   },
   "file_extension": ".py",
   "mimetype": "text/x-python",
   "name": "python",
   "nbconvert_exporter": "python",
   "pygments_lexer": "ipython3",
   "version": "3.8.10"
  },
  "orig_nbformat": 4
 },
 "nbformat": 4,
 "nbformat_minor": 2
}
